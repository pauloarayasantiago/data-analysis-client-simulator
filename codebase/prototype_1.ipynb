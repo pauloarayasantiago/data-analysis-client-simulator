{
 "cells": [
  {
   "cell_type": "code",
   "execution_count": 18,
   "metadata": {},
   "outputs": [],
   "source": [
    "import google.generativeai as genai\n",
    "import os\n",
    "from datetime import datetime\n",
    "import re\n"
   ]
  },
  {
   "cell_type": "code",
   "execution_count": 19,
   "metadata": {},
   "outputs": [],
   "source": [
    "# Load the API key from environment variables and configure the model properly\n",
    "GOOGLE_API_KEY = os.getenv('GOOGLE_API_KEY')  # Make sure you have set this environment variable\n",
    "if not GOOGLE_API_KEY:\n",
    "    raise ValueError(\"Please set the GOOGLE_API_KEY environment variable\")\n",
    "\n",
    "genai.configure(api_key=GOOGLE_API_KEY)\n",
    "\n",
    "# Initialize the model with safety settings\n",
    "generation_config = {\n",
    "    \"temperature\": 0.7,\n",
    "    \"top_p\": 1,\n",
    "    \"top_k\": 1,\n",
    "    \"max_output_tokens\": 2048,\n",
    "}\n",
    "\n",
    "safety_settings = [\n",
    "    {\"category\": \"HARM_CATEGORY_HARASSMENT\", \"threshold\": \"BLOCK_MEDIUM_AND_ABOVE\"},\n",
    "    {\"category\": \"HARM_CATEGORY_HATE_SPEECH\", \"threshold\": \"BLOCK_MEDIUM_AND_ABOVE\"},\n",
    "    {\"category\": \"HARM_CATEGORY_SEXUALLY_EXPLICIT\", \"threshold\": \"BLOCK_MEDIUM_AND_ABOVE\"},\n",
    "    {\"category\": \"HARM_CATEGORY_DANGEROUS_CONTENT\", \"threshold\": \"BLOCK_MEDIUM_AND_ABOVE\"},\n",
    "]\n",
    "\n",
    "model = genai.GenerativeModel(\n",
    "    model_name=\"gemini-1.5-pro\",  # or \"gemini-1.5-pro-latest\"\n",
    "    generation_config=generation_config,\n",
    "    safety_settings=safety_settings\n",
    ")"
   ]
  },
  {
   "cell_type": "code",
   "execution_count": null,
   "metadata": {},
   "outputs": [],
   "source": [
    "client_sim_prompt = \"\"\"\n",
    "    You are a client looking for a data analyst to solve a business problem.\n",
    "    Generate a client profile and the details of a realistic business problem that I need solved.\n",
    "    As the client, describe your personality, background, your understanding of data analysis, and any specific quirks or communication styles you might have, make it somewhat unpredictable.\n",
    "    Explain the business problem from the perspective of the client, what the context is and what the specific problem or question to be solved is. Include fictional demands, caveats, and surprises that are relevant to me as the client.\n",
    "    Speak in first person.\n",
    "    \"\"\""
   ]
  },
  {
   "cell_type": "code",
   "execution_count": 20,
   "metadata": {},
   "outputs": [],
   "source": [
    "# Global variable to store the project documentation.\n",
    "documentation_log = \"\"\n",
    "\n",
    "def log_documentation(text):\n",
    "    global documentation_log\n",
    "    timestamp = datetime.now().strftime(\"%Y-%m-%d %H:%M:%S\")\n",
    "    log_entry = f\"[{timestamp}]: {text}\\n\"\n",
    "    documentation_log += log_entry\n",
    "\n",
    "def generate_client_and_problem(model):\n",
    "    prompt = client_sim_prompt\n",
    "    response = model.generate_content(prompt)\n",
    "    log_documentation(f\"Generated client and problem with prompt: {prompt}\")\n",
    "    return response.text\n",
    "\n",
    "def extract_client_name(model, text):\n",
    "  prompt = f\"\"\"\n",
    "  From the following text, extract the client's name, return only the name:\n",
    "  {text}\n",
    "  \"\"\"\n",
    "  response = model.generate_content(prompt)\n",
    "  log_documentation(f\"Extracting client name with prompt: {prompt}\")\n",
    "  return response.text.strip()\n",
    "\n",
    "def main():\n",
    "    log_documentation(\"Starting the data analysis project simulation.\")\n",
    "    client_and_problem = generate_client_and_problem(model)\n",
    "    \n",
    "    # Extract the client name\n",
    "    client_name = extract_client_name(model,client_and_problem)\n",
    "    \n",
    "    # Sanitize the client name for use in a file name\n",
    "    sanitized_client_name = re.sub(r'[^\\w\\s-]', '', client_name)\n",
    "    sanitized_client_name = re.sub(r'\\s+', '_', sanitized_client_name).strip()\n",
    "\n",
    "\n",
    "    # Create the 'simulated_clients' directory if it doesn't exist\n",
    "    clients_dir = \"simulated_clients\"\n",
    "    if not os.path.exists(clients_dir):\n",
    "        os.makedirs(clients_dir)\n",
    "    \n",
    "    # Create a unique filename\n",
    "    timestamp = datetime.now().strftime(\"%Y%m%d_%H%M%S\")\n",
    "    filename = os.path.join(clients_dir, f\"{sanitized_client_name}_{timestamp}.txt\")\n",
    "\n",
    "    # Save the client and problem\n",
    "    with open(filename, \"w\") as f:\n",
    "         f.write(client_and_problem)\n",
    "         \n",
    "    print(f\"Client Profile and Business Problem saved to:\\n{filename}\")\n",
    "\n",
    "    # Save documentation\n",
    "    with open(\"project_documentation.txt\", \"w\") as f:\n",
    "        f.write(documentation_log)\n",
    "    print(\"\\nProject documentation saved to project_documentation.txt\")\n",
    "    log_documentation(\"Project simulation completed.\")"
   ]
  },
  {
   "cell_type": "code",
   "execution_count": 21,
   "metadata": {},
   "outputs": [
    {
     "name": "stdout",
     "output_type": "stream",
     "text": [
      "Client Profile and Business Problem saved to:\n",
      "simulated_clients\\Amelia_Dubois_20250110_212926.txt\n",
      "\n",
      "Project documentation saved to project_documentation.txt\n"
     ]
    }
   ],
   "source": [
    "\n",
    "if __name__ == \"__main__\":\n",
    "    main()"
   ]
  }
 ],
 "metadata": {
  "kernelspec": {
   "display_name": "gemini_env",
   "language": "python",
   "name": "python3"
  },
  "language_info": {
   "codemirror_mode": {
    "name": "ipython",
    "version": 3
   },
   "file_extension": ".py",
   "mimetype": "text/x-python",
   "name": "python",
   "nbconvert_exporter": "python",
   "pygments_lexer": "ipython3",
   "version": "3.10.16"
  }
 },
 "nbformat": 4,
 "nbformat_minor": 2
}
