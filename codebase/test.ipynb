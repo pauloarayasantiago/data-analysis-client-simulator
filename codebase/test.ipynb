{
 "cells": [
  {
   "cell_type": "code",
   "execution_count": 13,
   "metadata": {},
   "outputs": [],
   "source": [
    "# Cell 1: Imports\n",
    "import google.generativeai as genai\n",
    "import os\n",
    "from datetime import datetime\n",
    "import re"
   ]
  },
  {
   "cell_type": "code",
   "execution_count": 14,
   "metadata": {},
   "outputs": [],
   "source": [
    "# Cell 2: API Key and Model Setup\n",
    "# Load the API key from environment variables and configure the model properly\n",
    "GOOGLE_API_KEY = os.getenv('GOOGLE_API_KEY')  # Make sure you have set this environment variable\n",
    "if not GOOGLE_API_KEY:\n",
    "    raise ValueError(\"Please set the GOOGLE_API_KEY environment variable\")\n",
    "\n",
    "genai.configure(api_key=GOOGLE_API_KEY)\n",
    "\n",
    "# Initialize the model with safety settings\n",
    "generation_config = {\n",
    "    \"temperature\": 0.9, # Increased temperature\n",
    "    \"top_p\": 0.9, # Adjusted top-p\n",
    "    \"top_k\": 10, #Adjusted top-k\n",
    "    \"max_output_tokens\": 2048,\n",
    "}\n",
    "\n",
    "safety_settings = [\n",
    "    {\"category\": \"HARM_CATEGORY_HARASSMENT\", \"threshold\": \"BLOCK_MEDIUM_AND_ABOVE\"},\n",
    "    {\"category\": \"HARM_CATEGORY_HATE_SPEECH\", \"threshold\": \"BLOCK_MEDIUM_AND_ABOVE\"},\n",
    "    {\"category\": \"HARM_CATEGORY_SEXUALLY_EXPLICIT\", \"threshold\": \"BLOCK_MEDIUM_AND_ABOVE\"},\n",
    "    {\"category\": \"HARM_CATEGORY_DANGEROUS_CONTENT\", \"threshold\": \"BLOCK_MEDIUM_AND_ABOVE\"},\n",
    "]\n",
    "\n",
    "model = genai.GenerativeModel(\n",
    "    model_name=\"gemini-1.5-pro-latest\",\n",
    "    generation_config=generation_config,\n",
    "    safety_settings=safety_settings\n",
    ")"
   ]
  },
  {
   "cell_type": "code",
   "execution_count": 15,
   "metadata": {},
   "outputs": [],
   "source": [
    "# Cell 3: Prompt Definition\n",
    "client_sim_prompt = \"\"\"\n",
    "    You are a creative writing expert tasked with generating diverse and unique client profiles.\n",
    "    Generate **ONE** client profile and the details of **ONE** realistic business problem that this client needs solved.\n",
    "    Make sure that this client is completely unique and different from any other client that you have previously generated, they must have a different name, a different background, and come from a different period of time.\n",
    "    As the client, describe your personality, background, your understanding of data analysis, and any specific quirks or communication styles you might have, make it somewhat unpredictable and imaginative. The client should have a minimum length of 100 words.\n",
    "    Explain the business problem from the perspective of the client, what the context is and what the specific problem or question to be solved is. Include fictional demands, caveats, and surprises that are relevant to me as the client, and make sure these are different from previous prompts.\n",
    "    Speak in first person, and make sure you include your full name, as the very first string in the response in the following format, **as an example**:\n",
    "    John Smith:\n",
    "    \"\"\""
   ]
  },
  {
   "cell_type": "code",
   "execution_count": 16,
   "metadata": {},
   "outputs": [],
   "source": [
    "# Cell 4: Helper Functions\n",
    "def generate_client_and_problem(model, log_documentation):\n",
    "    log_documentation(\"Generating client and problem\")\n",
    "    prompt = client_sim_prompt\n",
    "    response = model.generate_content(prompt)\n",
    "    log_documentation(f\"Generated client and problem with prompt: {prompt}\")\n",
    "    log_documentation(f\"Raw model response:\\n{response.text}\")  # Log the raw response\n",
    "    return response.text\n",
    "\n",
    "def extract_client_name(text, log_documentation):\n",
    "    log_documentation(\"Extracting client name\")\n",
    "    log_documentation(f\"Text passed to name extraction: \\n{text}\") # log text before extraction\n",
    "    name_match = re.search(r\"^(.+?):\", text)\n",
    "    if name_match:\n",
    "        log_documentation(f\"Extracted name: {name_match.group(1).strip()}\")\n",
    "        return name_match.group(1).strip()\n",
    "    else:\n",
    "        log_documentation(\"Could not extract name\")\n",
    "        return \"Unknown_Client\""
   ]
  },
  {
   "cell_type": "code",
   "execution_count": 17,
   "metadata": {},
   "outputs": [],
   "source": [
    "# Cell 5: Main Function\n",
    "def main():\n",
    "    # Create a local documentation log variable for each iteration\n",
    "    documentation_log = \"\"\n",
    "    def log_documentation(text):\n",
    "        nonlocal documentation_log\n",
    "        timestamp = datetime.now().strftime(\"%Y-%m-%d %H:%M:%S\")\n",
    "        log_entry = f\"[{timestamp}]: {text}\\n\"\n",
    "        documentation_log += log_entry\n",
    "    \n",
    "    log_documentation(\"Starting the data analysis project simulation.\")\n",
    "    client_and_problem = generate_client_and_problem(model, log_documentation)\n",
    "    \n",
    "    # Extract the client name\n",
    "    client_name = extract_client_name(client_and_problem, log_documentation)\n",
    "    \n",
    "    # Sanitize the client name for use in a file name\n",
    "    sanitized_client_name = re.sub(r'[^\\w\\s-]', '', client_name)\n",
    "    sanitized_client_name = re.sub(r'\\s+', '_', sanitized_client_name).strip()\n",
    "\n",
    "    # Create the 'trials' directory if it doesn't exist\n",
    "    trials_dir = \"trials\"\n",
    "    if not os.path.exists(trials_dir):\n",
    "        os.makedirs(trials_dir)\n",
    "    \n",
    "    # Get the next trial number\n",
    "    trial_number = len(os.listdir(trials_dir)) + 1\n",
    "\n",
    "    # Create the trial directory\n",
    "    trial_dir = os.path.join(trials_dir, f\"trial_{trial_number}\")\n",
    "    os.makedirs(trial_dir)\n",
    "\n",
    "    # Create a unique filename for the client file\n",
    "    filename = os.path.join(trial_dir, f\"{sanitized_client_name}.txt\")\n",
    "\n",
    "    # Create a unique filename for the documentation file\n",
    "    doc_filename = os.path.join(trial_dir, f\"{sanitized_client_name}_documentation.txt\")\n",
    "\n",
    "    # Save the client and problem\n",
    "    with open(filename, \"w\") as f:\n",
    "         f.write(client_and_problem)\n",
    "         \n",
    "    print(f\"Client Profile and Business Problem saved to:\\n{filename}\")\n",
    "\n",
    "    # Save documentation\n",
    "    with open(doc_filename, \"w\") as f:\n",
    "        f.write(documentation_log)\n",
    "    print(f\"\\nProject documentation saved to: {doc_filename}\")\n",
    "    log_documentation(\"Project simulation completed.\")"
   ]
  },
  {
   "cell_type": "code",
   "execution_count": 18,
   "metadata": {},
   "outputs": [
    {
     "name": "stdout",
     "output_type": "stream",
     "text": [
      "Client Profile and Business Problem saved to:\n",
      "trials\\trial_9\\Esmeralda_Weatherwax.txt\n",
      "\n",
      "Project documentation saved to: trials\\trial_9\\Esmeralda_Weatherwax_documentation.txt\n"
     ]
    }
   ],
   "source": [
    "# Cell 6: Execution\n",
    "if __name__ == \"__main__\":\n",
    "    main()"
   ]
  }
 ],
 "metadata": {
  "kernelspec": {
   "display_name": "gemini_env",
   "language": "python",
   "name": "python3"
  },
  "language_info": {
   "codemirror_mode": {
    "name": "ipython",
    "version": 3
   },
   "file_extension": ".py",
   "mimetype": "text/x-python",
   "name": "python",
   "nbconvert_exporter": "python",
   "pygments_lexer": "ipython3",
   "version": "3.13.1"
  }
 },
 "nbformat": 4,
 "nbformat_minor": 2
}
