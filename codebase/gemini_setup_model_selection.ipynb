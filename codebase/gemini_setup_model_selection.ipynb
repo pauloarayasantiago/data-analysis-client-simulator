{
 "cells": [
  {
   "cell_type": "code",
   "execution_count": 2,
   "metadata": {},
   "outputs": [],
   "source": [
    "# Cell 1: Imports\n",
    "from google import genai\n",
    "import os\n",
    "from IPython.display import Markdown"
   ]
  },
  {
   "cell_type": "code",
   "execution_count": 4,
   "metadata": {},
   "outputs": [],
   "source": [
    "# Cell 2: API Key Setup\n",
    "# Load the API key from environment variables\n",
    "GOOGLE_API_KEY = os.getenv('GOOGLE_API_KEY')\n",
    "if not GOOGLE_API_KEY:\n",
    "    raise ValueError(\"Please set the GOOGLE_API_KEY environment variable\")\n",
    "\n",
    "# Configure the API key\n",
    "client = genai.Client(api_key=GOOGLE_API_KEY)"
   ]
  },
  {
   "cell_type": "code",
   "execution_count": 5,
   "metadata": {},
   "outputs": [],
   "source": [
    "# Cell 3: Prompt Definition\n",
    "client_sim_prompt = \"\"\"\n",
    "    You are a creative writing expert tasked with generating diverse and unique client profiles.\n",
    "    Generate **ONE** client profile and the details of **ONE** realistic business problem that this client needs solved.\n",
    "    Make sure that this client is completely unique and different from any other client that you have previously generated, they must have a different name, a different background, and come from a different period of time.\n",
    "    As the client, describe your personality, background, your understanding of data analysis, and any specific quirks or communication styles you might have, make it somewhat unpredictable and imaginative. The client should have a minimum length of 100 words.\n",
    "    Explain the business problem from the perspective of the client, what the context is and what the specific problem or question to be solved is. Include fictional demands, caveats, and surprises that are relevant to me as the client, and make sure these are different from previous prompts.\n",
    "    Speak in first person, and make sure you include your full name, as the very first string in the response in the following format, **as an example**:\n",
    "    John Smith:\n",
    "    \"\"\""
   ]
  },
  {
   "cell_type": "code",
   "execution_count": 6,
   "metadata": {},
   "outputs": [],
   "source": [
    "# Cell 4: Function to Generate Content\n",
    "def generate_content_with_model(api_key, model_id, prompt):\n",
    "    \"\"\"Generates content using a specified Gemini model and prompt.\n",
    "\n",
    "    Args:\n",
    "        api_key: Your Google API key.\n",
    "        model_id: The ID of the Gemini model to use.\n",
    "        prompt: The prompt to send to the model.\n",
    "\n",
    "    Returns:\n",
    "        The generated text from the model, or None if an error occurs.\n",
    "    \"\"\"\n",
    "    try:\n",
    "        client = genai.Client(api_key=api_key)\n",
    "        response = client.models.generate_content(\n",
    "            model=model_id,\n",
    "            contents=prompt\n",
    "        )\n",
    "        return response.text\n",
    "    except Exception as e:\n",
    "        print(f\"Error generating content with model {model_id}: {e}\")\n",
    "        return None"
   ]
  },
  {
   "cell_type": "code",
   "execution_count": 7,
   "metadata": {},
   "outputs": [],
   "source": [
    "# Cell 5: Main Execution for Model Comparison\n",
    "def main():\n",
    "    # List of model IDs to test\n",
    "    model_ids_to_test = [\n",
    "        \"gemini-1.5-pro-latest\",\n",
    "        \"gemini-1.5-flash-latest\",\n",
    "        \"gemini-2.0-flash-exp\"  # Add other model IDs you want to test\n",
    "    ]\n",
    "\n",
    "    print(\"Comparing Model Outputs:\\n\")\n",
    "    for model_id in model_ids_to_test:\n",
    "        print(f\"--- Model: {model_id} ---\")\n",
    "        output = generate_content_with_model(GOOGLE_API_KEY, model_id, client_sim_prompt)\n",
    "        if output:\n",
    "            display(Markdown(output))  # Use display(Markdown()) for better formatting in Jupyter\n",
    "        else:\n",
    "            print(\"No output generated or an error occurred.\")\n",
    "        print(\"\\n\" + \"=\" * 50 + \"\\n\")"
   ]
  },
  {
   "cell_type": "code",
   "execution_count": 8,
   "metadata": {},
   "outputs": [
    {
     "name": "stdout",
     "output_type": "stream",
     "text": [
      "Comparing Model Outputs:\n",
      "\n",
      "--- Model: gemini-1.5-pro-latest ---\n"
     ]
    },
    {
     "data": {
      "text/markdown": [
       "Esmeralda Weatherby:\n",
       "\n",
       "I'm Esmeralda Weatherby, a purveyor of exotic teas and tinctures in Victorian London, 1888.  Don't let the bustle and bonnet fool you; I'm as sharp as a tack and twice as shrewd. I built my empire from a humble street stall, blending herbs I learned about during my travels with my grandmother, a Romani healer. My knowledge of botanicals is encyclopedic, but numbers… those are a different beast altogether.  I understand that \"data analysis\" is all the rage now, with those newfangled adding machines and such, but I prefer the feel of dried lavender between my fingers to the click-clack of keys.  I’m a woman of instinct and observation.  I can tell which blend will soothe a frazzled city gent just by looking at him, but keeping track of my inventory and profits?  That’s a muddle.  I communicate frankly, some might even say bluntly, and I expect the same in return.  No flowery language or beating around the bush. Time is money, and mine is particularly valuable.  Don't waste it with jargon.  And for heaven's sake, don't talk down to me just because I'm a woman in trade.\n",
       "\n",
       "My business problem is this:  Jack the Ripper is wreaking havoc on Whitechapel, and it’s terrifying my customers.  Foot traffic has plummeted, particularly in the evenings, which is when I usually do my briskest trade.  My \"Night Bloom\" tea, a calming blend designed for restful sleep, used to fly off the shelves. Now, it’s gathering dust. I need to understand precisely how much my sales have dropped in different areas of the city, correlated to the Ripper’s… activities. I have meticulous records of every transaction – handwritten, of course – dating back two years. I need you to analyze them, create some sort of visual representation (perhaps a map?), and tell me which areas are most affected and by how much. But there’s a catch:  I suspect one of my regular customers, a shadowy fellow with a penchant for my \"Devil’s Claw\" elixir (a potent stimulant), might be the Ripper himself.  If you find anything in my sales data that could point to his identity, you must inform me immediately.  Discreetly, of course.  And if your analysis helps me catch the fiend, I’ll reward you handsomely with a lifetime supply of my finest teas. And a vial of my grandmother's truth serum. Don't look so shocked.  Every good businesswoman has a few secrets.\n"
      ],
      "text/plain": [
       "<IPython.core.display.Markdown object>"
      ]
     },
     "metadata": {},
     "output_type": "display_data"
    },
    {
     "name": "stdout",
     "output_type": "stream",
     "text": [
      "\n",
      "==================================================\n",
      "\n",
      "--- Model: gemini-1.5-flash-latest ---\n"
     ]
    },
    {
     "data": {
      "text/markdown": [
       "Isadora \"Izzy\" Bellweather-Van Derlyn:\n",
       "\n",
       "Right, darling, let's get this over with.  I'm Izzy, and yes, the hyphenated name is entirely intentional.  It reflects my wonderfully chaotic life, a whirlwind of Victorian sensibilities and modern-day sass.  I'm a purveyor of fine, handcrafted, ethically-sourced, *and entirely bespoke* birdhouses – yes, *birdhouses*, don’t scoff. They’re miniature architectural marvels, each one a tiny testament to avian luxury. My background?  Let's just say I dabbled in a bit of everything before settling on this delightfully eccentric career path:  a brief stint as a suffragette (rather boisterous, I admit), a failed attempt at a career as a botanist, and several years spent traveling the globe in search of the perfect shade of turquoise paint.  Data analysis?  Honestly, darling, it sounds utterly dreadful, like something one would find in a dusty ledger filled with invoices.  I prefer to rely on my intuition, which is, let me assure you, remarkably accurate. My communication style? Direct, flamboyant, and possibly a tad overwhelming. I'm also prone to bursts of inspiration, often arriving mid-sentence with brilliant, yet somewhat tangential, ideas. I demand results, but expect a certain level of… *artistic license* in the process.  Don’t even think of boring me with spreadsheets.\n",
       "\n",
       "My problem, my dear data analyst, is this: My sales are…fluctuating.  Unpredictably, wildly, frustratingly.  I've been tracking sales (on charming little index cards, naturally) and I’ve noticed some strange patterns. Sales spike dramatically during meteor showers, but plummet during full moons.  Nobody can explain it!  I suspect it's a celestial influence, perhaps the birds themselves are responding to some cosmic rhythm.  My solution? I need you to analyze my sales data, but with a twist. Forget your graphs and charts.  I need a *poetic* interpretation of the data. I want to understand the *emotional* connection between celestial events and my sales.  And here’s the kicker: I only want you to use data from odd-numbered years. Even-numbered years are simply… *unsuitable* for analysis.  There's also the small matter of the missing sales records for the years 1898-1902 – those were a rather tumultuous period in my life, so I haven't quite bothered to reconstruct them. This analysis must be completed within one month.  Do we have a deal?  Excellent! Now, do you have a good selection of teas? I do find a spot of Earl Grey rather conducive to inspiration… and possibly solving the mysteries of the universe.\n"
      ],
      "text/plain": [
       "<IPython.core.display.Markdown object>"
      ]
     },
     "metadata": {},
     "output_type": "display_data"
    },
    {
     "name": "stdout",
     "output_type": "stream",
     "text": [
      "\n",
      "==================================================\n",
      "\n",
      "--- Model: gemini-2.0-flash-exp ---\n"
     ]
    },
    {
     "data": {
      "text/markdown": [
       "Bartholomew \"Barnaby\" Butterfield:\n",
       "\n",
       "Right then, listen here, I'm Barnaby Butterfield, and don't you forget it! I was born under a very peculiar conjunction of the stars, back in 1888, and my life, well, it's been just as peculiar. I'm a self-made gentleman of questionable renown, a retired stage magician, illusionist and, dare I say, part-time purveyor of peculiar potions. Now, don't go getting any ideas, they’re mostly for theatrical purposes! My mind works like a clock with cogs made of glitter and half-remembered dreams. I see patterns in the shifting sands, hear melodies in the clanking of gears, and occasionally glimpse the true nature of reality when a pigeon squawks at the right frequency. Data, to me, is like a scattered deck of cards – mostly a jumble, but with the potential for astonishing revelations if you know how to lay them out. I have a penchant for the dramatic and a tendency to communicate in riddles, allusions and the occasional magic trick - I find it’s the best way to keep people on their toes, you know? I also possess an uncanny knack for predicting the next trend in fashionable hats, although how that works exactly is still a bit of a mystery even to me. Be warned, I expect a touch of theatrics in your explanations. If you make data sound dull I may have to make you disappear...permanently! And another thing, please never, ever refer to my hat as “just a hat”, it has a name, it’s called Percival.\n",
       "\n",
       "My current predicament involves my latest venture: the \"Ephemeral Emporium,\" a traveling curiosity shop that peddles the most bizarre and wonderful oddities imaginable. It’s all fine and dandy until I look at our accounts – they look like they’ve been written by a drunken octopus! Now, for years, I’ve been running it on a blend of intuition, guesswork, and the occasional consultation with the tea leaves. But alas, even my tea leaves seem confused by the sheer volume of… well, everything. The problem is this: I need to know which of my \"curiosities\" are actually generating a profit, and which are simply gathering dust and perhaps, attracting moths with an unnatural lust for velvet. But here’s the kicker: I don’t want some humdrum report filled with graphs and charts. I want you to present the data as if it's an act on stage. Imagine my sales figures as a troupe of acrobats, each representing a different product – some tumbling and soaring, others stumbling and falling flat on their faces. I want to see which \"acts\" are drawing the biggest crowds (profits), which are merely polite applause (minimal gains), and which are downright disastrous (significant losses). Oh, and one more thing, I've recently discovered that certain items seem to vanish and reappear with little or no rhyme or reason and often in completely different locations, I need this to be considered. Don’t ask me how, I'm still trying to work it out. This isn't just about numbers, it's about the spectacle of commerce! Can you manage that, or are your talents less magical than my own?\n"
      ],
      "text/plain": [
       "<IPython.core.display.Markdown object>"
      ]
     },
     "metadata": {},
     "output_type": "display_data"
    },
    {
     "name": "stdout",
     "output_type": "stream",
     "text": [
      "\n",
      "==================================================\n",
      "\n"
     ]
    }
   ],
   "source": [
    "# Cell 6: Run the comparison\n",
    "if __name__ == \"__main__\":\n",
    "    main()"
   ]
  }
 ],
 "metadata": {
  "kernelspec": {
   "display_name": "gemini_env",
   "language": "python",
   "name": "python3"
  },
  "language_info": {
   "codemirror_mode": {
    "name": "ipython",
    "version": 3
   },
   "file_extension": ".py",
   "mimetype": "text/x-python",
   "name": "python",
   "nbconvert_exporter": "python",
   "pygments_lexer": "ipython3",
   "version": "3.13.1"
  }
 },
 "nbformat": 4,
 "nbformat_minor": 2
}
